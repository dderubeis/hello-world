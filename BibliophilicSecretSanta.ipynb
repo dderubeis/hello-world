{
 "cells": [
  {
   "cell_type": "markdown",
   "metadata": {},
   "source": [
    "Riddler Express\n",
    "From Christopher “CJ” Halverson comes a bibliophilic game of Secret Santa:\n",
    "\n",
    "Every year, CJ’s family of five (including CJ) does a book exchange for Christmas. First, each person puts their name in a hat. The hat is shaken, and then each person draws a random name from the hat and gifts that person a book. However, if anyone draws their own name, they all put their names back into the hat and start over.\n",
    "\n",
    "What is the probability that no one will draw their own name?\n",
    "\n",
    "https://fivethirtyeight.com/features/can-you-cut-the-cookies/"
   ]
  },
  {
   "cell_type": "markdown",
   "metadata": {},
   "source": [
    "In order for no one to draw their own slip, we assume that the slips are placed in the hat in the same order as the family, then rearranged such that no slip is in its original place. This is otherwise known as a derangement. To answer this riddle, we must count the number of possible derangements.\n",
    "\n",
    "For example, in CJ's family, when a person's name has already been drawn, they can choose freely, while someone whose name hasn't been drawn can't. In both situations, a person does not know whether or not their name has been drawn so we have to somehow account for both possibilities.\n",
    "\n",
    "For any number, !n (the subfactorial of n) counts the number of derangements of n items by counting up to n and for each item i in the range, taking 1/i! while the plus and minus signs alternate."
   ]
  },
  {
   "cell_type": "markdown",
   "metadata": {},
   "source": [
    "We define a function, factorial, to help us with the work of the denominator. Due to a small n, I alternate plus and minus signs myself, but you could determine if the position of the item is odd, subtract it and if it's even, add it."
   ]
  },
  {
   "cell_type": "code",
   "execution_count": 1,
   "metadata": {},
   "outputs": [],
   "source": [
    "def factorial(n):\n",
    "    factorial = 1\n",
    "    if int(n) >= 1:\n",
    "        for i in range (1,int(n)+1):\n",
    "            factorial = factorial * i\n",
    "    # print(\"Factorial of \", n , \" is : \",factorial)\n",
    "    return factorial"
   ]
  },
  {
   "cell_type": "markdown",
   "metadata": {},
   "source": [
    "For the five people in CJ's family, this is therefore expressed as:"
   ]
  },
  {
   "cell_type": "code",
   "execution_count": 2,
   "metadata": {},
   "outputs": [],
   "source": [
    "ans = 1/factorial(0) - 1/factorial(1) + 1/factorial(2) - 1/factorial(3) + 1/factorial(4) - 1/factorial(5)"
   ]
  },
  {
   "cell_type": "code",
   "execution_count": 3,
   "metadata": {},
   "outputs": [
    {
     "name": "stdout",
     "output_type": "stream",
     "text": [
      "0.3666666666666667\n"
     ]
    }
   ],
   "source": [
    "print(ans)"
   ]
  },
  {
   "cell_type": "code",
   "execution_count": null,
   "metadata": {},
   "outputs": [],
   "source": []
  }
 ],
 "metadata": {
  "kernelspec": {
   "display_name": "Python 3",
   "language": "python",
   "name": "python3"
  },
  "language_info": {
   "codemirror_mode": {
    "name": "ipython",
    "version": 3
   },
   "file_extension": ".py",
   "mimetype": "text/x-python",
   "name": "python",
   "nbconvert_exporter": "python",
   "pygments_lexer": "ipython3",
   "version": "3.7.6"
  }
 },
 "nbformat": 4,
 "nbformat_minor": 4
}
