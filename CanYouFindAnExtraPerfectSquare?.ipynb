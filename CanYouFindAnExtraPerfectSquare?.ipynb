{
 "cells": [
  {
   "cell_type": "code",
   "execution_count": 49,
   "metadata": {},
   "outputs": [
    {
     "name": "stdout",
     "output_type": "stream",
     "text": [
      "Perfect:  16 4.0 1 1.0\n",
      "Extra Perfect:  1 1.0 0 0.0\n",
      "Perfect:  49 7.0 4 2.0\n",
      "Extra Perfect:  4 2.0 0 0.0\n",
      "Perfect:  169 13.0 16 4.0\n",
      "Extra Perfect:  16 4.0 0 0.0\n",
      "Perfect:  256 16.0 25 5.0\n",
      "Extra Perfect:  25 5.0 0 0.0\n",
      "Perfect:  361 19.0 36 6.0\n",
      "Extra Perfect:  36 6.0 0 0.0\n",
      "Perfect:  1444 38.0 144 12.0\n",
      "Extra Perfect:  144 12.0 1 1.0\n",
      "Perfect:  3249 57.0 324 18.0\n",
      "Perfect:  18496 136.0 1849 43.0\n",
      "Perfect:  64009 253.0 6400 80.0\n",
      "Extra Perfect:  6400 80.0 64 8.0\n"
     ]
    }
   ],
   "source": [
    "import math\n",
    "\n",
    "def check_perfect_square(n):\n",
    "    root = math.sqrt(n)\n",
    "    if int(root + 0.5) ** 2 == n:\n",
    "        return True\n",
    "    else:\n",
    "        return False\n",
    "\n",
    "for w in range(0,300):\n",
    "    x = w**2\n",
    "    if check_perfect_square(x) == True:\n",
    "        y = x//10\n",
    "        if check_perfect_square(y) == True and x > 10:\n",
    "            print(\"Perfect: \", x, math.sqrt(x), y, math.sqrt(y))\n",
    "            z = y//100\n",
    "            if check_perfect_square(z) == True:\n",
    "                print(\"Extra Perfect: \", y, math.sqrt(y), z, math.sqrt(z))"
   ]
  },
  {
   "cell_type": "code",
   "execution_count": null,
   "metadata": {},
   "outputs": [],
   "source": []
  }
 ],
 "metadata": {
  "kernelspec": {
   "display_name": "Python 3",
   "language": "python",
   "name": "python3"
  },
  "language_info": {
   "codemirror_mode": {
    "name": "ipython",
    "version": 3
   },
   "file_extension": ".py",
   "mimetype": "text/x-python",
   "name": "python",
   "nbconvert_exporter": "python",
   "pygments_lexer": "ipython3",
   "version": "3.7.6"
  }
 },
 "nbformat": 4,
 "nbformat_minor": 4
}
